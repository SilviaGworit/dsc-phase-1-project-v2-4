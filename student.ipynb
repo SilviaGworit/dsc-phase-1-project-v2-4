{
 "cells": [
  {
   "cell_type": "markdown",
   "metadata": {},
   "source": [
    "## Final Project Submission\n",
    "\n",
    "Please fill out:\n",
    "* Student name: SILVIA GWORIT\n",
    "* Student pace: full time\n",
    "* Scheduled project review date/time: 22/03/2024\n",
    "* Instructor name: MWIKALI\n",
    "* Blog post URL:\n"
   ]
  },
  {
   "cell_type": "code",
   "execution_count": 45,
   "metadata": {},
   "outputs": [],
   "source": [
    "# Your code here - remember to use markdown cells for comments as well!"
   ]
  },
  {
   "cell_type": "markdown",
   "metadata": {},
   "source": [
    "## INTRODUCTION\n",
    "As Microsoft plans to start a new movie studio, the main purpose of this project is to come up with actionable insights through exploratory data analysis for the company to use for there new venture. "
   ]
  },
  {
   "cell_type": "markdown",
   "metadata": {},
   "source": [
    "## BUSINESS UNDERSTANDING\n",
    "What is our main objective?\n",
    "To explore the types of films doing the best in box office and find actionable insights that help microsoft come to a conclusion."
   ]
  },
  {
   "cell_type": "markdown",
   "metadata": {},
   "source": [
    "## Importing Relevant Libraries"
   ]
  },
  {
   "cell_type": "code",
   "execution_count": 46,
   "metadata": {},
   "outputs": [],
   "source": [
    "# Importing libraries\n",
    "import numpy as np\n",
    "import pandas as pd \n",
    "import sqlite3\n",
    "import csv\n",
    "import matplotlib.pyplot as plt\n",
    "import seaborn as sns"
   ]
  },
  {
   "cell_type": "code",
   "execution_count": 47,
   "metadata": {},
   "outputs": [],
   "source": [
    "# loading the datasets we will use\n",
    "bom_movies = pd.read_csv('zippedData/bom.movie_gross 2.csv')\n",
    "tmdb_movies = pd.read_csv('zippeddata/tmdb.movies.csv')\n",
    "tn_movie_budget = pd.read_csv('zippedData/tn.movie_budgets.csv')\n",
    "rt_movie = pd.read_csv('zippedData/rt.movie_info.tsv.gz', delimiter='\\t',encoding='unicode_escape')"
   ]
  },
  {
   "cell_type": "markdown",
   "metadata": {},
   "source": [
    "## Exploring the Dataframes"
   ]
  },
  {
   "cell_type": "markdown",
   "metadata": {},
   "source": [
    " ## a) bom_movies"
   ]
  },
  {
   "cell_type": "code",
   "execution_count": 48,
   "metadata": {},
   "outputs": [
    {
     "data": {
      "text/html": [
       "<div>\n",
       "<style scoped>\n",
       "    .dataframe tbody tr th:only-of-type {\n",
       "        vertical-align: middle;\n",
       "    }\n",
       "\n",
       "    .dataframe tbody tr th {\n",
       "        vertical-align: top;\n",
       "    }\n",
       "\n",
       "    .dataframe thead th {\n",
       "        text-align: right;\n",
       "    }\n",
       "</style>\n",
       "<table border=\"1\" class=\"dataframe\">\n",
       "  <thead>\n",
       "    <tr style=\"text-align: right;\">\n",
       "      <th></th>\n",
       "      <th>title</th>\n",
       "      <th>studio</th>\n",
       "      <th>domestic_gross</th>\n",
       "      <th>foreign_gross</th>\n",
       "      <th>year</th>\n",
       "    </tr>\n",
       "  </thead>\n",
       "  <tbody>\n",
       "    <tr>\n",
       "      <th>0</th>\n",
       "      <td>Toy Story 3</td>\n",
       "      <td>BV</td>\n",
       "      <td>415000000.0</td>\n",
       "      <td>652000000</td>\n",
       "      <td>2010</td>\n",
       "    </tr>\n",
       "    <tr>\n",
       "      <th>1</th>\n",
       "      <td>Alice in Wonderland (2010)</td>\n",
       "      <td>BV</td>\n",
       "      <td>334200000.0</td>\n",
       "      <td>691300000</td>\n",
       "      <td>2010</td>\n",
       "    </tr>\n",
       "    <tr>\n",
       "      <th>2</th>\n",
       "      <td>Harry Potter and the Deathly Hallows Part 1</td>\n",
       "      <td>WB</td>\n",
       "      <td>296000000.0</td>\n",
       "      <td>664300000</td>\n",
       "      <td>2010</td>\n",
       "    </tr>\n",
       "    <tr>\n",
       "      <th>3</th>\n",
       "      <td>Inception</td>\n",
       "      <td>WB</td>\n",
       "      <td>292600000.0</td>\n",
       "      <td>535700000</td>\n",
       "      <td>2010</td>\n",
       "    </tr>\n",
       "    <tr>\n",
       "      <th>4</th>\n",
       "      <td>Shrek Forever After</td>\n",
       "      <td>P/DW</td>\n",
       "      <td>238700000.0</td>\n",
       "      <td>513900000</td>\n",
       "      <td>2010</td>\n",
       "    </tr>\n",
       "  </tbody>\n",
       "</table>\n",
       "</div>"
      ],
      "text/plain": [
       "                                         title studio  domestic_gross  \\\n",
       "0                                  Toy Story 3     BV     415000000.0   \n",
       "1                   Alice in Wonderland (2010)     BV     334200000.0   \n",
       "2  Harry Potter and the Deathly Hallows Part 1     WB     296000000.0   \n",
       "3                                    Inception     WB     292600000.0   \n",
       "4                          Shrek Forever After   P/DW     238700000.0   \n",
       "\n",
       "  foreign_gross  year  \n",
       "0     652000000  2010  \n",
       "1     691300000  2010  \n",
       "2     664300000  2010  \n",
       "3     535700000  2010  \n",
       "4     513900000  2010  "
      ]
     },
     "execution_count": 48,
     "metadata": {},
     "output_type": "execute_result"
    }
   ],
   "source": [
    "# View the first 5 rows bom_movies dataset\n",
    "bom_movies.head()"
   ]
  },
  {
   "cell_type": "code",
   "execution_count": 49,
   "metadata": {},
   "outputs": [
    {
     "name": "stdout",
     "output_type": "stream",
     "text": [
      "<class 'pandas.core.frame.DataFrame'>\n",
      "RangeIndex: 3387 entries, 0 to 3386\n",
      "Data columns (total 5 columns):\n",
      " #   Column          Non-Null Count  Dtype  \n",
      "---  ------          --------------  -----  \n",
      " 0   title           3387 non-null   object \n",
      " 1   studio          3382 non-null   object \n",
      " 2   domestic_gross  3359 non-null   float64\n",
      " 3   foreign_gross   2037 non-null   object \n",
      " 4   year            3387 non-null   int64  \n",
      "dtypes: float64(1), int64(1), object(3)\n",
      "memory usage: 132.4+ KB\n"
     ]
    }
   ],
   "source": [
    "# information on bom_movies dataset\n",
    "bom_movies.info()"
   ]
  },
  {
   "cell_type": "code",
   "execution_count": 50,
   "metadata": {},
   "outputs": [
    {
     "data": {
      "text/plain": [
       "(3387, 5)"
      ]
     },
     "execution_count": 50,
     "metadata": {},
     "output_type": "execute_result"
    }
   ],
   "source": [
    "bom_movies.shape"
   ]
  },
  {
   "cell_type": "markdown",
   "metadata": {},
   "source": [
    "## b)tn_movie_budget"
   ]
  },
  {
   "cell_type": "code",
   "execution_count": 51,
   "metadata": {},
   "outputs": [
    {
     "data": {
      "text/html": [
       "<div>\n",
       "<style scoped>\n",
       "    .dataframe tbody tr th:only-of-type {\n",
       "        vertical-align: middle;\n",
       "    }\n",
       "\n",
       "    .dataframe tbody tr th {\n",
       "        vertical-align: top;\n",
       "    }\n",
       "\n",
       "    .dataframe thead th {\n",
       "        text-align: right;\n",
       "    }\n",
       "</style>\n",
       "<table border=\"1\" class=\"dataframe\">\n",
       "  <thead>\n",
       "    <tr style=\"text-align: right;\">\n",
       "      <th></th>\n",
       "      <th>id</th>\n",
       "      <th>release_date</th>\n",
       "      <th>movie</th>\n",
       "      <th>production_budget</th>\n",
       "      <th>domestic_gross</th>\n",
       "      <th>worldwide_gross</th>\n",
       "    </tr>\n",
       "  </thead>\n",
       "  <tbody>\n",
       "    <tr>\n",
       "      <th>0</th>\n",
       "      <td>1</td>\n",
       "      <td>Dec 18, 2009</td>\n",
       "      <td>Avatar</td>\n",
       "      <td>$425,000,000</td>\n",
       "      <td>$760,507,625</td>\n",
       "      <td>$2,776,345,279</td>\n",
       "    </tr>\n",
       "    <tr>\n",
       "      <th>1</th>\n",
       "      <td>2</td>\n",
       "      <td>May 20, 2011</td>\n",
       "      <td>Pirates of the Caribbean: On Stranger Tides</td>\n",
       "      <td>$410,600,000</td>\n",
       "      <td>$241,063,875</td>\n",
       "      <td>$1,045,663,875</td>\n",
       "    </tr>\n",
       "    <tr>\n",
       "      <th>2</th>\n",
       "      <td>3</td>\n",
       "      <td>Jun 7, 2019</td>\n",
       "      <td>Dark Phoenix</td>\n",
       "      <td>$350,000,000</td>\n",
       "      <td>$42,762,350</td>\n",
       "      <td>$149,762,350</td>\n",
       "    </tr>\n",
       "    <tr>\n",
       "      <th>3</th>\n",
       "      <td>4</td>\n",
       "      <td>May 1, 2015</td>\n",
       "      <td>Avengers: Age of Ultron</td>\n",
       "      <td>$330,600,000</td>\n",
       "      <td>$459,005,868</td>\n",
       "      <td>$1,403,013,963</td>\n",
       "    </tr>\n",
       "    <tr>\n",
       "      <th>4</th>\n",
       "      <td>5</td>\n",
       "      <td>Dec 15, 2017</td>\n",
       "      <td>Star Wars Ep. VIII: The Last Jedi</td>\n",
       "      <td>$317,000,000</td>\n",
       "      <td>$620,181,382</td>\n",
       "      <td>$1,316,721,747</td>\n",
       "    </tr>\n",
       "  </tbody>\n",
       "</table>\n",
       "</div>"
      ],
      "text/plain": [
       "   id  release_date                                        movie  \\\n",
       "0   1  Dec 18, 2009                                       Avatar   \n",
       "1   2  May 20, 2011  Pirates of the Caribbean: On Stranger Tides   \n",
       "2   3   Jun 7, 2019                                 Dark Phoenix   \n",
       "3   4   May 1, 2015                      Avengers: Age of Ultron   \n",
       "4   5  Dec 15, 2017            Star Wars Ep. VIII: The Last Jedi   \n",
       "\n",
       "  production_budget domestic_gross worldwide_gross  \n",
       "0      $425,000,000   $760,507,625  $2,776,345,279  \n",
       "1      $410,600,000   $241,063,875  $1,045,663,875  \n",
       "2      $350,000,000    $42,762,350    $149,762,350  \n",
       "3      $330,600,000   $459,005,868  $1,403,013,963  \n",
       "4      $317,000,000   $620,181,382  $1,316,721,747  "
      ]
     },
     "execution_count": 51,
     "metadata": {},
     "output_type": "execute_result"
    }
   ],
   "source": [
    "# Viewing the first 5 rows\n",
    "tn_movie_budget.head()"
   ]
  },
  {
   "cell_type": "code",
   "execution_count": 52,
   "metadata": {},
   "outputs": [
    {
     "name": "stdout",
     "output_type": "stream",
     "text": [
      "<class 'pandas.core.frame.DataFrame'>\n",
      "RangeIndex: 5782 entries, 0 to 5781\n",
      "Data columns (total 6 columns):\n",
      " #   Column             Non-Null Count  Dtype \n",
      "---  ------             --------------  ----- \n",
      " 0   id                 5782 non-null   int64 \n",
      " 1   release_date       5782 non-null   object\n",
      " 2   movie              5782 non-null   object\n",
      " 3   production_budget  5782 non-null   object\n",
      " 4   domestic_gross     5782 non-null   object\n",
      " 5   worldwide_gross    5782 non-null   object\n",
      "dtypes: int64(1), object(5)\n",
      "memory usage: 271.2+ KB\n"
     ]
    }
   ],
   "source": [
    "#Information on the dataframe\n",
    "tn_movie_budget.info()"
   ]
  },
  {
   "cell_type": "code",
   "execution_count": 53,
   "metadata": {},
   "outputs": [
    {
     "data": {
      "text/plain": [
       "(5782, 6)"
      ]
     },
     "execution_count": 53,
     "metadata": {},
     "output_type": "execute_result"
    }
   ],
   "source": [
    "tn_movie_budget.shape"
   ]
  },
  {
   "cell_type": "markdown",
   "metadata": {},
   "source": [
    "## c) rt_movie"
   ]
  },
  {
   "cell_type": "code",
   "execution_count": 54,
   "metadata": {},
   "outputs": [
    {
     "data": {
      "text/html": [
       "<div>\n",
       "<style scoped>\n",
       "    .dataframe tbody tr th:only-of-type {\n",
       "        vertical-align: middle;\n",
       "    }\n",
       "\n",
       "    .dataframe tbody tr th {\n",
       "        vertical-align: top;\n",
       "    }\n",
       "\n",
       "    .dataframe thead th {\n",
       "        text-align: right;\n",
       "    }\n",
       "</style>\n",
       "<table border=\"1\" class=\"dataframe\">\n",
       "  <thead>\n",
       "    <tr style=\"text-align: right;\">\n",
       "      <th></th>\n",
       "      <th>id</th>\n",
       "      <th>synopsis</th>\n",
       "      <th>rating</th>\n",
       "      <th>genre</th>\n",
       "      <th>director</th>\n",
       "      <th>writer</th>\n",
       "      <th>theater_date</th>\n",
       "      <th>dvd_date</th>\n",
       "      <th>currency</th>\n",
       "      <th>box_office</th>\n",
       "      <th>runtime</th>\n",
       "      <th>studio</th>\n",
       "    </tr>\n",
       "  </thead>\n",
       "  <tbody>\n",
       "    <tr>\n",
       "      <th>0</th>\n",
       "      <td>1</td>\n",
       "      <td>This gritty, fast-paced, and innovative police...</td>\n",
       "      <td>R</td>\n",
       "      <td>Action and Adventure|Classics|Drama</td>\n",
       "      <td>William Friedkin</td>\n",
       "      <td>Ernest Tidyman</td>\n",
       "      <td>Oct 9, 1971</td>\n",
       "      <td>Sep 25, 2001</td>\n",
       "      <td>NaN</td>\n",
       "      <td>NaN</td>\n",
       "      <td>104 minutes</td>\n",
       "      <td>NaN</td>\n",
       "    </tr>\n",
       "    <tr>\n",
       "      <th>1</th>\n",
       "      <td>3</td>\n",
       "      <td>New York City, not-too-distant-future: Eric Pa...</td>\n",
       "      <td>R</td>\n",
       "      <td>Drama|Science Fiction and Fantasy</td>\n",
       "      <td>David Cronenberg</td>\n",
       "      <td>David Cronenberg|Don DeLillo</td>\n",
       "      <td>Aug 17, 2012</td>\n",
       "      <td>Jan 1, 2013</td>\n",
       "      <td>$</td>\n",
       "      <td>600,000</td>\n",
       "      <td>108 minutes</td>\n",
       "      <td>Entertainment One</td>\n",
       "    </tr>\n",
       "    <tr>\n",
       "      <th>2</th>\n",
       "      <td>5</td>\n",
       "      <td>Illeana Douglas delivers a superb performance ...</td>\n",
       "      <td>R</td>\n",
       "      <td>Drama|Musical and Performing Arts</td>\n",
       "      <td>Allison Anders</td>\n",
       "      <td>Allison Anders</td>\n",
       "      <td>Sep 13, 1996</td>\n",
       "      <td>Apr 18, 2000</td>\n",
       "      <td>NaN</td>\n",
       "      <td>NaN</td>\n",
       "      <td>116 minutes</td>\n",
       "      <td>NaN</td>\n",
       "    </tr>\n",
       "    <tr>\n",
       "      <th>3</th>\n",
       "      <td>6</td>\n",
       "      <td>Michael Douglas runs afoul of a treacherous su...</td>\n",
       "      <td>R</td>\n",
       "      <td>Drama|Mystery and Suspense</td>\n",
       "      <td>Barry Levinson</td>\n",
       "      <td>Paul Attanasio|Michael Crichton</td>\n",
       "      <td>Dec 9, 1994</td>\n",
       "      <td>Aug 27, 1997</td>\n",
       "      <td>NaN</td>\n",
       "      <td>NaN</td>\n",
       "      <td>128 minutes</td>\n",
       "      <td>NaN</td>\n",
       "    </tr>\n",
       "    <tr>\n",
       "      <th>4</th>\n",
       "      <td>7</td>\n",
       "      <td>NaN</td>\n",
       "      <td>NR</td>\n",
       "      <td>Drama|Romance</td>\n",
       "      <td>Rodney Bennett</td>\n",
       "      <td>Giles Cooper</td>\n",
       "      <td>NaN</td>\n",
       "      <td>NaN</td>\n",
       "      <td>NaN</td>\n",
       "      <td>NaN</td>\n",
       "      <td>200 minutes</td>\n",
       "      <td>NaN</td>\n",
       "    </tr>\n",
       "  </tbody>\n",
       "</table>\n",
       "</div>"
      ],
      "text/plain": [
       "   id                                           synopsis rating  \\\n",
       "0   1  This gritty, fast-paced, and innovative police...      R   \n",
       "1   3  New York City, not-too-distant-future: Eric Pa...      R   \n",
       "2   5  Illeana Douglas delivers a superb performance ...      R   \n",
       "3   6  Michael Douglas runs afoul of a treacherous su...      R   \n",
       "4   7                                                NaN     NR   \n",
       "\n",
       "                                 genre          director  \\\n",
       "0  Action and Adventure|Classics|Drama  William Friedkin   \n",
       "1    Drama|Science Fiction and Fantasy  David Cronenberg   \n",
       "2    Drama|Musical and Performing Arts    Allison Anders   \n",
       "3           Drama|Mystery and Suspense    Barry Levinson   \n",
       "4                        Drama|Romance    Rodney Bennett   \n",
       "\n",
       "                            writer  theater_date      dvd_date currency  \\\n",
       "0                   Ernest Tidyman   Oct 9, 1971  Sep 25, 2001      NaN   \n",
       "1     David Cronenberg|Don DeLillo  Aug 17, 2012   Jan 1, 2013        $   \n",
       "2                   Allison Anders  Sep 13, 1996  Apr 18, 2000      NaN   \n",
       "3  Paul Attanasio|Michael Crichton   Dec 9, 1994  Aug 27, 1997      NaN   \n",
       "4                     Giles Cooper           NaN           NaN      NaN   \n",
       "\n",
       "  box_office      runtime             studio  \n",
       "0        NaN  104 minutes                NaN  \n",
       "1    600,000  108 minutes  Entertainment One  \n",
       "2        NaN  116 minutes                NaN  \n",
       "3        NaN  128 minutes                NaN  \n",
       "4        NaN  200 minutes                NaN  "
      ]
     },
     "execution_count": 54,
     "metadata": {},
     "output_type": "execute_result"
    }
   ],
   "source": [
    "rt_movie.head()"
   ]
  },
  {
   "cell_type": "code",
   "execution_count": 55,
   "metadata": {},
   "outputs": [
    {
     "name": "stdout",
     "output_type": "stream",
     "text": [
      "<class 'pandas.core.frame.DataFrame'>\n",
      "RangeIndex: 1560 entries, 0 to 1559\n",
      "Data columns (total 12 columns):\n",
      " #   Column        Non-Null Count  Dtype \n",
      "---  ------        --------------  ----- \n",
      " 0   id            1560 non-null   int64 \n",
      " 1   synopsis      1498 non-null   object\n",
      " 2   rating        1557 non-null   object\n",
      " 3   genre         1552 non-null   object\n",
      " 4   director      1361 non-null   object\n",
      " 5   writer        1111 non-null   object\n",
      " 6   theater_date  1201 non-null   object\n",
      " 7   dvd_date      1201 non-null   object\n",
      " 8   currency      340 non-null    object\n",
      " 9   box_office    340 non-null    object\n",
      " 10  runtime       1530 non-null   object\n",
      " 11  studio        494 non-null    object\n",
      "dtypes: int64(1), object(11)\n",
      "memory usage: 146.4+ KB\n"
     ]
    }
   ],
   "source": [
    "rt_movie.info()"
   ]
  },
  {
   "cell_type": "code",
   "execution_count": 56,
   "metadata": {},
   "outputs": [
    {
     "data": {
      "text/plain": [
       "(1560, 12)"
      ]
     },
     "execution_count": 56,
     "metadata": {},
     "output_type": "execute_result"
    }
   ],
   "source": [
    "rt_movie.shape"
   ]
  },
  {
   "cell_type": "markdown",
   "metadata": {},
   "source": [
    "## CLEANING THE DATA"
   ]
  },
  {
   "cell_type": "markdown",
   "metadata": {},
   "source": [
    "## a) bom_movies"
   ]
  },
  {
   "cell_type": "code",
   "execution_count": 57,
   "metadata": {},
   "outputs": [
    {
     "data": {
      "text/html": [
       "<div>\n",
       "<style scoped>\n",
       "    .dataframe tbody tr th:only-of-type {\n",
       "        vertical-align: middle;\n",
       "    }\n",
       "\n",
       "    .dataframe tbody tr th {\n",
       "        vertical-align: top;\n",
       "    }\n",
       "\n",
       "    .dataframe thead th {\n",
       "        text-align: right;\n",
       "    }\n",
       "</style>\n",
       "<table border=\"1\" class=\"dataframe\">\n",
       "  <thead>\n",
       "    <tr style=\"text-align: right;\">\n",
       "      <th></th>\n",
       "      <th>title</th>\n",
       "      <th>studio</th>\n",
       "      <th>domestic_gross</th>\n",
       "      <th>foreign_gross</th>\n",
       "      <th>year</th>\n",
       "    </tr>\n",
       "  </thead>\n",
       "  <tbody>\n",
       "    <tr>\n",
       "      <th>0</th>\n",
       "      <td>Toy Story 3</td>\n",
       "      <td>BV</td>\n",
       "      <td>415000000.0</td>\n",
       "      <td>652000000</td>\n",
       "      <td>2010</td>\n",
       "    </tr>\n",
       "    <tr>\n",
       "      <th>1</th>\n",
       "      <td>Alice in Wonderland (2010)</td>\n",
       "      <td>BV</td>\n",
       "      <td>334200000.0</td>\n",
       "      <td>691300000</td>\n",
       "      <td>2010</td>\n",
       "    </tr>\n",
       "  </tbody>\n",
       "</table>\n",
       "</div>"
      ],
      "text/plain": [
       "                        title studio  domestic_gross foreign_gross  year\n",
       "0                 Toy Story 3     BV     415000000.0     652000000  2010\n",
       "1  Alice in Wonderland (2010)     BV     334200000.0     691300000  2010"
      ]
     },
     "execution_count": 57,
     "metadata": {},
     "output_type": "execute_result"
    }
   ],
   "source": [
    "bom_movies.head(2)"
   ]
  },
  {
   "cell_type": "code",
   "execution_count": 58,
   "metadata": {},
   "outputs": [
    {
     "name": "stdout",
     "output_type": "stream",
     "text": [
      "<class 'pandas.core.frame.DataFrame'>\n",
      "RangeIndex: 3387 entries, 0 to 3386\n",
      "Data columns (total 5 columns):\n",
      " #   Column          Non-Null Count  Dtype  \n",
      "---  ------          --------------  -----  \n",
      " 0   title           3387 non-null   object \n",
      " 1   studio          3382 non-null   object \n",
      " 2   domestic_gross  3359 non-null   float64\n",
      " 3   foreign_gross   2037 non-null   float64\n",
      " 4   year            3387 non-null   int64  \n",
      "dtypes: float64(2), int64(1), object(2)\n",
      "memory usage: 132.4+ KB\n"
     ]
    }
   ],
   "source": [
    "# Changing the 'froeign_gross' column datatype\n",
    "bom_movies['foreign_gross'] = bom_movies['foreign_gross'].astype(str)\n",
    "bom_movies['foreign_gross'] = bom_movies['foreign_gross'].str.replace(',', '')\n",
    "bom_movies['foreign_gross'] = pd.to_numeric(bom_movies['foreign_gross'], errors='coerce')\n",
    "non_numeric_values = bom_movies['foreign_gross'][bom_movies['foreign_gross'].isna()]\n",
    "bom_movies.info()"
   ]
  },
  {
   "cell_type": "code",
   "execution_count": 59,
   "metadata": {},
   "outputs": [
    {
     "data": {
      "text/plain": [
       "title                0\n",
       "studio               5\n",
       "domestic_gross      28\n",
       "foreign_gross     1350\n",
       "year                 0\n",
       "dtype: int64"
      ]
     },
     "execution_count": 59,
     "metadata": {},
     "output_type": "execute_result"
    }
   ],
   "source": [
    "#checking for missing values\n",
    "bom_movies.isna().sum()"
   ]
  },
  {
   "cell_type": "code",
   "execution_count": 60,
   "metadata": {},
   "outputs": [
    {
     "data": {
      "text/plain": [
       "title             0\n",
       "studio            0\n",
       "domestic_gross    0\n",
       "foreign_gross     0\n",
       "year              0\n",
       "dtype: int64"
      ]
     },
     "execution_count": 60,
     "metadata": {},
     "output_type": "execute_result"
    }
   ],
   "source": [
    "# Dropping columns with missing rows\n",
    "bom_movies.dropna(subset = ['studio','domestic_gross','foreign_gross'] , inplace = True)\n",
    "bom_movies.isna().sum()"
   ]
  },
  {
   "cell_type": "code",
   "execution_count": 61,
   "metadata": {},
   "outputs": [
    {
     "data": {
      "text/plain": [
       "0"
      ]
     },
     "execution_count": 61,
     "metadata": {},
     "output_type": "execute_result"
    }
   ],
   "source": [
    "# Checking for duplicate rows \n",
    "bom_movies.duplicated().sum()"
   ]
  },
  {
   "cell_type": "code",
   "execution_count": 62,
   "metadata": {},
   "outputs": [
    {
     "data": {
      "text/html": [
       "<div>\n",
       "<style scoped>\n",
       "    .dataframe tbody tr th:only-of-type {\n",
       "        vertical-align: middle;\n",
       "    }\n",
       "\n",
       "    .dataframe tbody tr th {\n",
       "        vertical-align: top;\n",
       "    }\n",
       "\n",
       "    .dataframe thead th {\n",
       "        text-align: right;\n",
       "    }\n",
       "</style>\n",
       "<table border=\"1\" class=\"dataframe\">\n",
       "  <thead>\n",
       "    <tr style=\"text-align: right;\">\n",
       "      <th></th>\n",
       "      <th>title</th>\n",
       "      <th>studio</th>\n",
       "      <th>domestic_gross</th>\n",
       "      <th>foreign_gross</th>\n",
       "      <th>year</th>\n",
       "    </tr>\n",
       "  </thead>\n",
       "  <tbody>\n",
       "    <tr>\n",
       "      <th>0</th>\n",
       "      <td>Toy Story 3</td>\n",
       "      <td>BV</td>\n",
       "      <td>415000000.0</td>\n",
       "      <td>652000000.0</td>\n",
       "      <td>2010</td>\n",
       "    </tr>\n",
       "    <tr>\n",
       "      <th>1</th>\n",
       "      <td>Alice in Wonderland (2010)</td>\n",
       "      <td>BV</td>\n",
       "      <td>334200000.0</td>\n",
       "      <td>691300000.0</td>\n",
       "      <td>2010</td>\n",
       "    </tr>\n",
       "    <tr>\n",
       "      <th>2</th>\n",
       "      <td>Harry Potter and the Deathly Hallows Part 1</td>\n",
       "      <td>WB</td>\n",
       "      <td>296000000.0</td>\n",
       "      <td>664300000.0</td>\n",
       "      <td>2010</td>\n",
       "    </tr>\n",
       "    <tr>\n",
       "      <th>3</th>\n",
       "      <td>Inception</td>\n",
       "      <td>WB</td>\n",
       "      <td>292600000.0</td>\n",
       "      <td>535700000.0</td>\n",
       "      <td>2010</td>\n",
       "    </tr>\n",
       "    <tr>\n",
       "      <th>4</th>\n",
       "      <td>Shrek Forever After</td>\n",
       "      <td>P/DW</td>\n",
       "      <td>238700000.0</td>\n",
       "      <td>513900000.0</td>\n",
       "      <td>2010</td>\n",
       "    </tr>\n",
       "  </tbody>\n",
       "</table>\n",
       "</div>"
      ],
      "text/plain": [
       "                                         title studio  domestic_gross  \\\n",
       "0                                  Toy Story 3     BV     415000000.0   \n",
       "1                   Alice in Wonderland (2010)     BV     334200000.0   \n",
       "2  Harry Potter and the Deathly Hallows Part 1     WB     296000000.0   \n",
       "3                                    Inception     WB     292600000.0   \n",
       "4                          Shrek Forever After   P/DW     238700000.0   \n",
       "\n",
       "   foreign_gross  year  \n",
       "0    652000000.0  2010  \n",
       "1    691300000.0  2010  \n",
       "2    664300000.0  2010  \n",
       "3    535700000.0  2010  \n",
       "4    513900000.0  2010  "
      ]
     },
     "execution_count": 62,
     "metadata": {},
     "output_type": "execute_result"
    }
   ],
   "source": [
    "bom_movies.head()"
   ]
  },
  {
   "cell_type": "markdown",
   "metadata": {},
   "source": [
    "## b) tn_movie_budget"
   ]
  },
  {
   "cell_type": "code",
   "execution_count": 63,
   "metadata": {},
   "outputs": [
    {
     "data": {
      "text/plain": [
       "id                   0\n",
       "release_date         0\n",
       "movie                0\n",
       "production_budget    0\n",
       "domestic_gross       0\n",
       "worldwide_gross      0\n",
       "dtype: int64"
      ]
     },
     "execution_count": 63,
     "metadata": {},
     "output_type": "execute_result"
    }
   ],
   "source": [
    "# checking for missing values\n",
    "tn_movie_budget.isna().sum()"
   ]
  },
  {
   "cell_type": "code",
   "execution_count": 64,
   "metadata": {},
   "outputs": [
    {
     "data": {
      "text/plain": [
       "0"
      ]
     },
     "execution_count": 64,
     "metadata": {},
     "output_type": "execute_result"
    }
   ],
   "source": [
    "# checking for duplicate values\n",
    "tn_movie_budget.duplicated().sum()"
   ]
  },
  {
   "cell_type": "code",
   "execution_count": 65,
   "metadata": {},
   "outputs": [],
   "source": [
    "# removing the $ sign from the 'production_budget', 'domestic_gross', 'worldwide_gross' columns\n",
    "def clean_currency(x):\n",
    "    if isinstance(x, str):\n",
    "        return(x.replace('$', '').replace(',', ''))\n",
    "    return(x)\n",
    "\n",
    "tn_movie_budget[['production_budget', 'domestic_gross', 'worldwide_gross']] = tn_movie_budget[['production_budget', 'domestic_gross', 'worldwide_gross']].map(clean_currency).astype(float)"
   ]
  },
  {
   "cell_type": "code",
   "execution_count": 66,
   "metadata": {},
   "outputs": [
    {
     "data": {
      "text/html": [
       "<div>\n",
       "<style scoped>\n",
       "    .dataframe tbody tr th:only-of-type {\n",
       "        vertical-align: middle;\n",
       "    }\n",
       "\n",
       "    .dataframe tbody tr th {\n",
       "        vertical-align: top;\n",
       "    }\n",
       "\n",
       "    .dataframe thead th {\n",
       "        text-align: right;\n",
       "    }\n",
       "</style>\n",
       "<table border=\"1\" class=\"dataframe\">\n",
       "  <thead>\n",
       "    <tr style=\"text-align: right;\">\n",
       "      <th></th>\n",
       "      <th>id</th>\n",
       "      <th>release_date</th>\n",
       "      <th>movie</th>\n",
       "      <th>production_budget</th>\n",
       "      <th>domestic_gross</th>\n",
       "      <th>worldwide_gross</th>\n",
       "      <th>year</th>\n",
       "    </tr>\n",
       "  </thead>\n",
       "  <tbody>\n",
       "    <tr>\n",
       "      <th>0</th>\n",
       "      <td>1</td>\n",
       "      <td>2009-12-18</td>\n",
       "      <td>Avatar</td>\n",
       "      <td>425000000.0</td>\n",
       "      <td>760507625.0</td>\n",
       "      <td>2.776345e+09</td>\n",
       "      <td>2009</td>\n",
       "    </tr>\n",
       "    <tr>\n",
       "      <th>1</th>\n",
       "      <td>2</td>\n",
       "      <td>2011-05-20</td>\n",
       "      <td>Pirates of the Caribbean: On Stranger Tides</td>\n",
       "      <td>410600000.0</td>\n",
       "      <td>241063875.0</td>\n",
       "      <td>1.045664e+09</td>\n",
       "      <td>2011</td>\n",
       "    </tr>\n",
       "    <tr>\n",
       "      <th>2</th>\n",
       "      <td>3</td>\n",
       "      <td>2019-06-07</td>\n",
       "      <td>Dark Phoenix</td>\n",
       "      <td>350000000.0</td>\n",
       "      <td>42762350.0</td>\n",
       "      <td>1.497624e+08</td>\n",
       "      <td>2019</td>\n",
       "    </tr>\n",
       "    <tr>\n",
       "      <th>3</th>\n",
       "      <td>4</td>\n",
       "      <td>2015-05-01</td>\n",
       "      <td>Avengers: Age of Ultron</td>\n",
       "      <td>330600000.0</td>\n",
       "      <td>459005868.0</td>\n",
       "      <td>1.403014e+09</td>\n",
       "      <td>2015</td>\n",
       "    </tr>\n",
       "    <tr>\n",
       "      <th>4</th>\n",
       "      <td>5</td>\n",
       "      <td>2017-12-15</td>\n",
       "      <td>Star Wars Ep. VIII: The Last Jedi</td>\n",
       "      <td>317000000.0</td>\n",
       "      <td>620181382.0</td>\n",
       "      <td>1.316722e+09</td>\n",
       "      <td>2017</td>\n",
       "    </tr>\n",
       "    <tr>\n",
       "      <th>5</th>\n",
       "      <td>6</td>\n",
       "      <td>2015-12-18</td>\n",
       "      <td>Star Wars Ep. VII: The Force Awakens</td>\n",
       "      <td>306000000.0</td>\n",
       "      <td>936662225.0</td>\n",
       "      <td>2.053311e+09</td>\n",
       "      <td>2015</td>\n",
       "    </tr>\n",
       "    <tr>\n",
       "      <th>6</th>\n",
       "      <td>7</td>\n",
       "      <td>2018-04-27</td>\n",
       "      <td>Avengers: Infinity War</td>\n",
       "      <td>300000000.0</td>\n",
       "      <td>678815482.0</td>\n",
       "      <td>2.048134e+09</td>\n",
       "      <td>2018</td>\n",
       "    </tr>\n",
       "    <tr>\n",
       "      <th>7</th>\n",
       "      <td>8</td>\n",
       "      <td>2007-05-24</td>\n",
       "      <td>Pirates of the Caribbean: At Worldâs End</td>\n",
       "      <td>300000000.0</td>\n",
       "      <td>309420425.0</td>\n",
       "      <td>9.634204e+08</td>\n",
       "      <td>2007</td>\n",
       "    </tr>\n",
       "    <tr>\n",
       "      <th>8</th>\n",
       "      <td>9</td>\n",
       "      <td>2017-11-17</td>\n",
       "      <td>Justice League</td>\n",
       "      <td>300000000.0</td>\n",
       "      <td>229024295.0</td>\n",
       "      <td>6.559452e+08</td>\n",
       "      <td>2017</td>\n",
       "    </tr>\n",
       "    <tr>\n",
       "      <th>9</th>\n",
       "      <td>10</td>\n",
       "      <td>2015-11-06</td>\n",
       "      <td>Spectre</td>\n",
       "      <td>300000000.0</td>\n",
       "      <td>200074175.0</td>\n",
       "      <td>8.796209e+08</td>\n",
       "      <td>2015</td>\n",
       "    </tr>\n",
       "  </tbody>\n",
       "</table>\n",
       "</div>"
      ],
      "text/plain": [
       "   id release_date                                        movie  \\\n",
       "0   1   2009-12-18                                       Avatar   \n",
       "1   2   2011-05-20  Pirates of the Caribbean: On Stranger Tides   \n",
       "2   3   2019-06-07                                 Dark Phoenix   \n",
       "3   4   2015-05-01                      Avengers: Age of Ultron   \n",
       "4   5   2017-12-15            Star Wars Ep. VIII: The Last Jedi   \n",
       "5   6   2015-12-18         Star Wars Ep. VII: The Force Awakens   \n",
       "6   7   2018-04-27                       Avengers: Infinity War   \n",
       "7   8   2007-05-24   Pirates of the Caribbean: At Worldâs End   \n",
       "8   9   2017-11-17                               Justice League   \n",
       "9  10   2015-11-06                                      Spectre   \n",
       "\n",
       "   production_budget  domestic_gross  worldwide_gross  year  \n",
       "0        425000000.0     760507625.0     2.776345e+09  2009  \n",
       "1        410600000.0     241063875.0     1.045664e+09  2011  \n",
       "2        350000000.0      42762350.0     1.497624e+08  2019  \n",
       "3        330600000.0     459005868.0     1.403014e+09  2015  \n",
       "4        317000000.0     620181382.0     1.316722e+09  2017  \n",
       "5        306000000.0     936662225.0     2.053311e+09  2015  \n",
       "6        300000000.0     678815482.0     2.048134e+09  2018  \n",
       "7        300000000.0     309420425.0     9.634204e+08  2007  \n",
       "8        300000000.0     229024295.0     6.559452e+08  2017  \n",
       "9        300000000.0     200074175.0     8.796209e+08  2015  "
      ]
     },
     "execution_count": 66,
     "metadata": {},
     "output_type": "execute_result"
    }
   ],
   "source": [
    "#Conver\n",
    "tn_movie_budget['release_date'] = pd.to_datetime(tn_movie_budget['release_date'])\n",
    "tn_movie_budget['year'] = tn_movie_budget['release_date'].dt.strftime('%Y')\n",
    "tn_movie_budget.head(10)"
   ]
  },
  {
   "cell_type": "code",
   "execution_count": 67,
   "metadata": {},
   "outputs": [],
   "source": [
    "# Creating a column profit column using the production_budget and domestic_gross columns\n",
    "tn_movie_budget['profit'] = tn_movie_budget['domestic_gross'] - tn_movie_budget['production_budget']"
   ]
  },
  {
   "cell_type": "code",
   "execution_count": 68,
   "metadata": {},
   "outputs": [],
   "source": [
    "# Sorting the table by year\n",
    "tn_movie_budget = tn_movie_budget.sort_values(by='year')\n",
    "tn_movie_budget.set_index('id', inplace=True)"
   ]
  },
  {
   "cell_type": "code",
   "execution_count": 69,
   "metadata": {},
   "outputs": [
    {
     "data": {
      "text/html": [
       "<div>\n",
       "<style scoped>\n",
       "    .dataframe tbody tr th:only-of-type {\n",
       "        vertical-align: middle;\n",
       "    }\n",
       "\n",
       "    .dataframe tbody tr th {\n",
       "        vertical-align: top;\n",
       "    }\n",
       "\n",
       "    .dataframe thead th {\n",
       "        text-align: right;\n",
       "    }\n",
       "</style>\n",
       "<table border=\"1\" class=\"dataframe\">\n",
       "  <thead>\n",
       "    <tr style=\"text-align: right;\">\n",
       "      <th></th>\n",
       "      <th>release_date</th>\n",
       "      <th>movie</th>\n",
       "      <th>production_budget</th>\n",
       "      <th>domestic_gross</th>\n",
       "      <th>worldwide_gross</th>\n",
       "      <th>year</th>\n",
       "      <th>profit</th>\n",
       "    </tr>\n",
       "    <tr>\n",
       "      <th>id</th>\n",
       "      <th></th>\n",
       "      <th></th>\n",
       "      <th></th>\n",
       "      <th></th>\n",
       "      <th></th>\n",
       "      <th></th>\n",
       "      <th></th>\n",
       "    </tr>\n",
       "  </thead>\n",
       "  <tbody>\n",
       "    <tr>\n",
       "      <th>78</th>\n",
       "      <td>1915-02-08</td>\n",
       "      <td>The Birth of a Nation</td>\n",
       "      <td>110000.0</td>\n",
       "      <td>10000000.0</td>\n",
       "      <td>11000000.0</td>\n",
       "      <td>1915</td>\n",
       "      <td>9890000.0</td>\n",
       "    </tr>\n",
       "    <tr>\n",
       "      <th>15</th>\n",
       "      <td>1916-12-24</td>\n",
       "      <td>20,000 Leagues Under the Sea</td>\n",
       "      <td>200000.0</td>\n",
       "      <td>8000000.0</td>\n",
       "      <td>8000000.0</td>\n",
       "      <td>1916</td>\n",
       "      <td>7800000.0</td>\n",
       "    </tr>\n",
       "    <tr>\n",
       "      <th>84</th>\n",
       "      <td>1920-09-17</td>\n",
       "      <td>Over the Hill to the Poorhouse</td>\n",
       "      <td>100000.0</td>\n",
       "      <td>3000000.0</td>\n",
       "      <td>3000000.0</td>\n",
       "      <td>1920</td>\n",
       "      <td>2900000.0</td>\n",
       "    </tr>\n",
       "    <tr>\n",
       "      <th>70</th>\n",
       "      <td>1925-12-30</td>\n",
       "      <td>Ben-Hur: A Tale of the Christ</td>\n",
       "      <td>3900000.0</td>\n",
       "      <td>9000000.0</td>\n",
       "      <td>9000000.0</td>\n",
       "      <td>1925</td>\n",
       "      <td>5100000.0</td>\n",
       "    </tr>\n",
       "    <tr>\n",
       "      <th>7</th>\n",
       "      <td>1925-11-19</td>\n",
       "      <td>The Big Parade</td>\n",
       "      <td>245000.0</td>\n",
       "      <td>11000000.0</td>\n",
       "      <td>22000000.0</td>\n",
       "      <td>1925</td>\n",
       "      <td>10755000.0</td>\n",
       "    </tr>\n",
       "    <tr>\n",
       "      <th>...</th>\n",
       "      <td>...</td>\n",
       "      <td>...</td>\n",
       "      <td>...</td>\n",
       "      <td>...</td>\n",
       "      <td>...</td>\n",
       "      <td>...</td>\n",
       "      <td>...</td>\n",
       "    </tr>\n",
       "    <tr>\n",
       "      <th>94</th>\n",
       "      <td>2019-03-15</td>\n",
       "      <td>Wonder Park</td>\n",
       "      <td>100000000.0</td>\n",
       "      <td>45216793.0</td>\n",
       "      <td>115149422.0</td>\n",
       "      <td>2019</td>\n",
       "      <td>-54783207.0</td>\n",
       "    </tr>\n",
       "    <tr>\n",
       "      <th>97</th>\n",
       "      <td>2019-03-15</td>\n",
       "      <td>Captive State</td>\n",
       "      <td>25000000.0</td>\n",
       "      <td>5958315.0</td>\n",
       "      <td>8993300.0</td>\n",
       "      <td>2019</td>\n",
       "      <td>-19041685.0</td>\n",
       "    </tr>\n",
       "    <tr>\n",
       "      <th>33</th>\n",
       "      <td>2019-03-29</td>\n",
       "      <td>Unplanned</td>\n",
       "      <td>6000000.0</td>\n",
       "      <td>18107621.0</td>\n",
       "      <td>18107621.0</td>\n",
       "      <td>2019</td>\n",
       "      <td>12107621.0</td>\n",
       "    </tr>\n",
       "    <tr>\n",
       "      <th>93</th>\n",
       "      <td>2019-01-25</td>\n",
       "      <td>Serenity</td>\n",
       "      <td>25000000.0</td>\n",
       "      <td>8547045.0</td>\n",
       "      <td>11367029.0</td>\n",
       "      <td>2019</td>\n",
       "      <td>-16452955.0</td>\n",
       "    </tr>\n",
       "    <tr>\n",
       "      <th>36</th>\n",
       "      <td>2019-02-08</td>\n",
       "      <td>The Prodigy</td>\n",
       "      <td>6000000.0</td>\n",
       "      <td>14856291.0</td>\n",
       "      <td>19789712.0</td>\n",
       "      <td>2019</td>\n",
       "      <td>8856291.0</td>\n",
       "    </tr>\n",
       "  </tbody>\n",
       "</table>\n",
       "<p>5234 rows × 7 columns</p>\n",
       "</div>"
      ],
      "text/plain": [
       "   release_date                           movie  production_budget  \\\n",
       "id                                                                   \n",
       "78   1915-02-08           The Birth of a Nation           110000.0   \n",
       "15   1916-12-24    20,000 Leagues Under the Sea           200000.0   \n",
       "84   1920-09-17  Over the Hill to the Poorhouse           100000.0   \n",
       "70   1925-12-30   Ben-Hur: A Tale of the Christ          3900000.0   \n",
       "7    1925-11-19                  The Big Parade           245000.0   \n",
       "..          ...                             ...                ...   \n",
       "94   2019-03-15                     Wonder Park        100000000.0   \n",
       "97   2019-03-15                   Captive State         25000000.0   \n",
       "33   2019-03-29                       Unplanned          6000000.0   \n",
       "93   2019-01-25                        Serenity         25000000.0   \n",
       "36   2019-02-08                     The Prodigy          6000000.0   \n",
       "\n",
       "    domestic_gross  worldwide_gross  year      profit  \n",
       "id                                                     \n",
       "78      10000000.0       11000000.0  1915   9890000.0  \n",
       "15       8000000.0        8000000.0  1916   7800000.0  \n",
       "84       3000000.0        3000000.0  1920   2900000.0  \n",
       "70       9000000.0        9000000.0  1925   5100000.0  \n",
       "7       11000000.0       22000000.0  1925  10755000.0  \n",
       "..             ...              ...   ...         ...  \n",
       "94      45216793.0      115149422.0  2019 -54783207.0  \n",
       "97       5958315.0        8993300.0  2019 -19041685.0  \n",
       "33      18107621.0       18107621.0  2019  12107621.0  \n",
       "93       8547045.0       11367029.0  2019 -16452955.0  \n",
       "36      14856291.0       19789712.0  2019   8856291.0  \n",
       "\n",
       "[5234 rows x 7 columns]"
      ]
     },
     "execution_count": 69,
     "metadata": {},
     "output_type": "execute_result"
    }
   ],
   "source": [
    "# removing rows in domestic_gross and production budget with o values\n",
    "tn_movie_budget = tn_movie_budget[(tn_movie_budget['domestic_gross'] != 0.0) & (tn_movie_budget['production_budget'] != 0.0)]\n",
    "# Changing the year column datatype\n",
    "tn_movie_budget['year'] = tn_movie_budget['year'].astype(int)\n",
    "\n",
    "df = pd.DataFrame(tn_movie_budget)\n",
    "df\n"
   ]
  },
  {
   "cell_type": "code",
   "execution_count": 70,
   "metadata": {},
   "outputs": [
    {
     "data": {
      "text/html": [
       "<div>\n",
       "<style scoped>\n",
       "    .dataframe tbody tr th:only-of-type {\n",
       "        vertical-align: middle;\n",
       "    }\n",
       "\n",
       "    .dataframe tbody tr th {\n",
       "        vertical-align: top;\n",
       "    }\n",
       "\n",
       "    .dataframe thead th {\n",
       "        text-align: right;\n",
       "    }\n",
       "</style>\n",
       "<table border=\"1\" class=\"dataframe\">\n",
       "  <thead>\n",
       "    <tr style=\"text-align: right;\">\n",
       "      <th></th>\n",
       "      <th>release_date</th>\n",
       "      <th>movie</th>\n",
       "      <th>production_budget</th>\n",
       "      <th>domestic_gross</th>\n",
       "      <th>worldwide_gross</th>\n",
       "      <th>year</th>\n",
       "      <th>profit</th>\n",
       "    </tr>\n",
       "    <tr>\n",
       "      <th>id</th>\n",
       "      <th></th>\n",
       "      <th></th>\n",
       "      <th></th>\n",
       "      <th></th>\n",
       "      <th></th>\n",
       "      <th></th>\n",
       "      <th></th>\n",
       "    </tr>\n",
       "  </thead>\n",
       "  <tbody>\n",
       "    <tr>\n",
       "      <th>78</th>\n",
       "      <td>1915-02-08</td>\n",
       "      <td>The Birth of a Nation</td>\n",
       "      <td>110000.0</td>\n",
       "      <td>10000000.0</td>\n",
       "      <td>11000000.0</td>\n",
       "      <td>1915</td>\n",
       "      <td>9890000.0</td>\n",
       "    </tr>\n",
       "    <tr>\n",
       "      <th>15</th>\n",
       "      <td>1916-12-24</td>\n",
       "      <td>20,000 Leagues Under the Sea</td>\n",
       "      <td>200000.0</td>\n",
       "      <td>8000000.0</td>\n",
       "      <td>8000000.0</td>\n",
       "      <td>1916</td>\n",
       "      <td>7800000.0</td>\n",
       "    </tr>\n",
       "    <tr>\n",
       "      <th>84</th>\n",
       "      <td>1920-09-17</td>\n",
       "      <td>Over the Hill to the Poorhouse</td>\n",
       "      <td>100000.0</td>\n",
       "      <td>3000000.0</td>\n",
       "      <td>3000000.0</td>\n",
       "      <td>1920</td>\n",
       "      <td>2900000.0</td>\n",
       "    </tr>\n",
       "    <tr>\n",
       "      <th>70</th>\n",
       "      <td>1925-12-30</td>\n",
       "      <td>Ben-Hur: A Tale of the Christ</td>\n",
       "      <td>3900000.0</td>\n",
       "      <td>9000000.0</td>\n",
       "      <td>9000000.0</td>\n",
       "      <td>1925</td>\n",
       "      <td>5100000.0</td>\n",
       "    </tr>\n",
       "    <tr>\n",
       "      <th>7</th>\n",
       "      <td>1925-11-19</td>\n",
       "      <td>The Big Parade</td>\n",
       "      <td>245000.0</td>\n",
       "      <td>11000000.0</td>\n",
       "      <td>22000000.0</td>\n",
       "      <td>1925</td>\n",
       "      <td>10755000.0</td>\n",
       "    </tr>\n",
       "  </tbody>\n",
       "</table>\n",
       "</div>"
      ],
      "text/plain": [
       "   release_date                           movie  production_budget  \\\n",
       "id                                                                   \n",
       "78   1915-02-08           The Birth of a Nation           110000.0   \n",
       "15   1916-12-24    20,000 Leagues Under the Sea           200000.0   \n",
       "84   1920-09-17  Over the Hill to the Poorhouse           100000.0   \n",
       "70   1925-12-30   Ben-Hur: A Tale of the Christ          3900000.0   \n",
       "7    1925-11-19                  The Big Parade           245000.0   \n",
       "\n",
       "    domestic_gross  worldwide_gross  year      profit  \n",
       "id                                                     \n",
       "78      10000000.0       11000000.0  1915   9890000.0  \n",
       "15       8000000.0        8000000.0  1916   7800000.0  \n",
       "84       3000000.0        3000000.0  1920   2900000.0  \n",
       "70       9000000.0        9000000.0  1925   5100000.0  \n",
       "7       11000000.0       22000000.0  1925  10755000.0  "
      ]
     },
     "execution_count": 70,
     "metadata": {},
     "output_type": "execute_result"
    }
   ],
   "source": [
    "tn_movie_budget.head()"
   ]
  },
  {
   "cell_type": "code",
   "execution_count": 71,
   "metadata": {},
   "outputs": [
    {
     "name": "stdout",
     "output_type": "stream",
     "text": [
      "<class 'pandas.core.frame.DataFrame'>\n",
      "Index: 5234 entries, 78 to 36\n",
      "Data columns (total 7 columns):\n",
      " #   Column             Non-Null Count  Dtype         \n",
      "---  ------             --------------  -----         \n",
      " 0   release_date       5234 non-null   datetime64[ns]\n",
      " 1   movie              5234 non-null   object        \n",
      " 2   production_budget  5234 non-null   float64       \n",
      " 3   domestic_gross     5234 non-null   float64       \n",
      " 4   worldwide_gross    5234 non-null   float64       \n",
      " 5   year               5234 non-null   int64         \n",
      " 6   profit             5234 non-null   float64       \n",
      "dtypes: datetime64[ns](1), float64(4), int64(1), object(1)\n",
      "memory usage: 327.1+ KB\n"
     ]
    }
   ],
   "source": [
    "tn_movie_budget.info()"
   ]
  },
  {
   "cell_type": "markdown",
   "metadata": {},
   "source": [
    "## c) rt_movie"
   ]
  },
  {
   "cell_type": "code",
   "execution_count": 72,
   "metadata": {},
   "outputs": [
    {
     "data": {
      "text/plain": [
       "id                 0\n",
       "synopsis          62\n",
       "rating             3\n",
       "genre              8\n",
       "director         199\n",
       "writer           449\n",
       "theater_date     359\n",
       "dvd_date         359\n",
       "currency        1220\n",
       "box_office      1220\n",
       "runtime           30\n",
       "studio          1066\n",
       "dtype: int64"
      ]
     },
     "execution_count": 72,
     "metadata": {},
     "output_type": "execute_result"
    }
   ],
   "source": [
    "# checking for missing values\n",
    "rt_movie.isna().sum()"
   ]
  },
  {
   "cell_type": "code",
   "execution_count": 73,
   "metadata": {},
   "outputs": [
    {
     "data": {
      "text/plain": [
       "id              0\n",
       "synopsis        0\n",
       "rating          0\n",
       "genre           0\n",
       "director        0\n",
       "writer          0\n",
       "theater_date    0\n",
       "dvd_date        0\n",
       "currency        0\n",
       "box_office      0\n",
       "runtime         0\n",
       "studio          0\n",
       "dtype: int64"
      ]
     },
     "execution_count": 73,
     "metadata": {},
     "output_type": "execute_result"
    }
   ],
   "source": [
    "# dropping rows with missing values\n",
    "rt_movie.dropna(subset =['synopsis','rating','director', 'writer' ,'theater_date','dvd_date', 'currency','box_office','runtime','studio'] , inplace = True)\n",
    "rt_movie.isna().sum()"
   ]
  },
  {
   "cell_type": "code",
   "execution_count": 74,
   "metadata": {},
   "outputs": [
    {
     "data": {
      "text/plain": [
       "0"
      ]
     },
     "execution_count": 74,
     "metadata": {},
     "output_type": "execute_result"
    }
   ],
   "source": [
    "# checking for duplicate values\n",
    "rt_movie.duplicated().sum()"
   ]
  },
  {
   "cell_type": "code",
   "execution_count": 75,
   "metadata": {},
   "outputs": [],
   "source": [
    "#removing the | from the genre column and splitting elements in the genre column \n",
    "rt_movie = rt_movie.assign(genre=rt_movie.genre.str.split('|'))"
   ]
  },
  {
   "cell_type": "code",
   "execution_count": 76,
   "metadata": {},
   "outputs": [
    {
     "data": {
      "text/html": [
       "<div>\n",
       "<style scoped>\n",
       "    .dataframe tbody tr th:only-of-type {\n",
       "        vertical-align: middle;\n",
       "    }\n",
       "\n",
       "    .dataframe tbody tr th {\n",
       "        vertical-align: top;\n",
       "    }\n",
       "\n",
       "    .dataframe thead th {\n",
       "        text-align: right;\n",
       "    }\n",
       "</style>\n",
       "<table border=\"1\" class=\"dataframe\">\n",
       "  <thead>\n",
       "    <tr style=\"text-align: right;\">\n",
       "      <th></th>\n",
       "      <th>id</th>\n",
       "      <th>synopsis</th>\n",
       "      <th>rating</th>\n",
       "      <th>genre</th>\n",
       "      <th>director</th>\n",
       "      <th>writer</th>\n",
       "      <th>theater_date</th>\n",
       "      <th>dvd_date</th>\n",
       "      <th>currency</th>\n",
       "      <th>box_office</th>\n",
       "      <th>runtime</th>\n",
       "      <th>studio</th>\n",
       "    </tr>\n",
       "  </thead>\n",
       "  <tbody>\n",
       "    <tr>\n",
       "      <th>1</th>\n",
       "      <td>3</td>\n",
       "      <td>New York City, not-too-distant-future: Eric Pa...</td>\n",
       "      <td>R</td>\n",
       "      <td>[Drama, Science Fiction and Fantasy]</td>\n",
       "      <td>David Cronenberg</td>\n",
       "      <td>David Cronenberg|Don DeLillo</td>\n",
       "      <td>Aug 17, 2012</td>\n",
       "      <td>Jan 1, 2013</td>\n",
       "      <td>$</td>\n",
       "      <td>600,000</td>\n",
       "      <td>108 minutes</td>\n",
       "      <td>Entertainment One</td>\n",
       "    </tr>\n",
       "    <tr>\n",
       "      <th>6</th>\n",
       "      <td>10</td>\n",
       "      <td>Some cast and crew from NBC's highly acclaimed...</td>\n",
       "      <td>PG-13</td>\n",
       "      <td>[Comedy]</td>\n",
       "      <td>Jake Kasdan</td>\n",
       "      <td>Mike White</td>\n",
       "      <td>Jan 11, 2002</td>\n",
       "      <td>Jun 18, 2002</td>\n",
       "      <td>$</td>\n",
       "      <td>41,032,915</td>\n",
       "      <td>82 minutes</td>\n",
       "      <td>Paramount Pictures</td>\n",
       "    </tr>\n",
       "    <tr>\n",
       "      <th>7</th>\n",
       "      <td>13</td>\n",
       "      <td>Stewart Kane, an Irishman living in the Austra...</td>\n",
       "      <td>R</td>\n",
       "      <td>[Drama]</td>\n",
       "      <td>Ray Lawrence</td>\n",
       "      <td>Raymond Carver|Beatrix Christian</td>\n",
       "      <td>Apr 27, 2006</td>\n",
       "      <td>Oct 2, 2007</td>\n",
       "      <td>$</td>\n",
       "      <td>224,114</td>\n",
       "      <td>123 minutes</td>\n",
       "      <td>Sony Pictures Classics</td>\n",
       "    </tr>\n",
       "    <tr>\n",
       "      <th>15</th>\n",
       "      <td>22</td>\n",
       "      <td>Two-time Academy Award Winner Kevin Spacey giv...</td>\n",
       "      <td>R</td>\n",
       "      <td>[Comedy, Drama, Mystery and Suspense]</td>\n",
       "      <td>George Hickenlooper</td>\n",
       "      <td>Norman Snider</td>\n",
       "      <td>Dec 17, 2010</td>\n",
       "      <td>Apr 5, 2011</td>\n",
       "      <td>$</td>\n",
       "      <td>1,039,869</td>\n",
       "      <td>108 minutes</td>\n",
       "      <td>ATO Pictures</td>\n",
       "    </tr>\n",
       "    <tr>\n",
       "      <th>18</th>\n",
       "      <td>25</td>\n",
       "      <td>From ancient Japan's most enduring tale, the e...</td>\n",
       "      <td>PG-13</td>\n",
       "      <td>[Action and Adventure, Drama, Science Fiction ...</td>\n",
       "      <td>Carl Erik Rinsch</td>\n",
       "      <td>Chris Morgan|Hossein Amini</td>\n",
       "      <td>Dec 25, 2013</td>\n",
       "      <td>Apr 1, 2014</td>\n",
       "      <td>$</td>\n",
       "      <td>20,518,224</td>\n",
       "      <td>127 minutes</td>\n",
       "      <td>Universal Pictures</td>\n",
       "    </tr>\n",
       "  </tbody>\n",
       "</table>\n",
       "</div>"
      ],
      "text/plain": [
       "    id                                           synopsis rating  \\\n",
       "1    3  New York City, not-too-distant-future: Eric Pa...      R   \n",
       "6   10  Some cast and crew from NBC's highly acclaimed...  PG-13   \n",
       "7   13  Stewart Kane, an Irishman living in the Austra...      R   \n",
       "15  22  Two-time Academy Award Winner Kevin Spacey giv...      R   \n",
       "18  25  From ancient Japan's most enduring tale, the e...  PG-13   \n",
       "\n",
       "                                                genre             director  \\\n",
       "1                [Drama, Science Fiction and Fantasy]     David Cronenberg   \n",
       "6                                            [Comedy]          Jake Kasdan   \n",
       "7                                             [Drama]         Ray Lawrence   \n",
       "15              [Comedy, Drama, Mystery and Suspense]  George Hickenlooper   \n",
       "18  [Action and Adventure, Drama, Science Fiction ...     Carl Erik Rinsch   \n",
       "\n",
       "                              writer  theater_date      dvd_date currency  \\\n",
       "1       David Cronenberg|Don DeLillo  Aug 17, 2012   Jan 1, 2013        $   \n",
       "6                         Mike White  Jan 11, 2002  Jun 18, 2002        $   \n",
       "7   Raymond Carver|Beatrix Christian  Apr 27, 2006   Oct 2, 2007        $   \n",
       "15                     Norman Snider  Dec 17, 2010   Apr 5, 2011        $   \n",
       "18        Chris Morgan|Hossein Amini  Dec 25, 2013   Apr 1, 2014        $   \n",
       "\n",
       "    box_office      runtime                  studio  \n",
       "1      600,000  108 minutes       Entertainment One  \n",
       "6   41,032,915   82 minutes      Paramount Pictures  \n",
       "7      224,114  123 minutes  Sony Pictures Classics  \n",
       "15   1,039,869  108 minutes            ATO Pictures  \n",
       "18  20,518,224  127 minutes      Universal Pictures  "
      ]
     },
     "execution_count": 76,
     "metadata": {},
     "output_type": "execute_result"
    }
   ],
   "source": [
    "rt_movie.head()"
   ]
  },
  {
   "cell_type": "code",
   "execution_count": 77,
   "metadata": {},
   "outputs": [
    {
     "name": "stdout",
     "output_type": "stream",
     "text": [
      "<class 'pandas.core.frame.DataFrame'>\n",
      "Index: 235 entries, 1 to 1545\n",
      "Data columns (total 12 columns):\n",
      " #   Column        Non-Null Count  Dtype \n",
      "---  ------        --------------  ----- \n",
      " 0   id            235 non-null    int64 \n",
      " 1   synopsis      235 non-null    object\n",
      " 2   rating        235 non-null    object\n",
      " 3   genre         235 non-null    object\n",
      " 4   director      235 non-null    object\n",
      " 5   writer        235 non-null    object\n",
      " 6   theater_date  235 non-null    object\n",
      " 7   dvd_date      235 non-null    object\n",
      " 8   currency      235 non-null    object\n",
      " 9   box_office    235 non-null    object\n",
      " 10  runtime       235 non-null    object\n",
      " 11  studio        235 non-null    object\n",
      "dtypes: int64(1), object(11)\n",
      "memory usage: 23.9+ KB\n"
     ]
    }
   ],
   "source": [
    "rt_movie.info()"
   ]
  },
  {
   "cell_type": "markdown",
   "metadata": {},
   "source": [
    "## Merging the datasets"
   ]
  },
  {
   "cell_type": "code",
   "execution_count": 78,
   "metadata": {},
   "outputs": [],
   "source": [
    "# renaming the column names that will be used to join the tables\n",
    "tn_movie_budget.rename(columns = {'movie':'title'}, inplace = True)\n",
    "tmdb_movies.rename(columns = {'original_title': 'title'}, inplace = True)"
   ]
  },
  {
   "cell_type": "code",
   "execution_count": 79,
   "metadata": {},
   "outputs": [
    {
     "data": {
      "text/html": [
       "<div>\n",
       "<style scoped>\n",
       "    .dataframe tbody tr th:only-of-type {\n",
       "        vertical-align: middle;\n",
       "    }\n",
       "\n",
       "    .dataframe tbody tr th {\n",
       "        vertical-align: top;\n",
       "    }\n",
       "\n",
       "    .dataframe thead th {\n",
       "        text-align: right;\n",
       "    }\n",
       "</style>\n",
       "<table border=\"1\" class=\"dataframe\">\n",
       "  <thead>\n",
       "    <tr style=\"text-align: right;\">\n",
       "      <th></th>\n",
       "      <th>id</th>\n",
       "      <th>release_date</th>\n",
       "      <th>title</th>\n",
       "      <th>production_budget</th>\n",
       "      <th>domestic_gross</th>\n",
       "      <th>worldwide_gross</th>\n",
       "      <th>year</th>\n",
       "      <th>profit</th>\n",
       "      <th>synopsis</th>\n",
       "      <th>rating</th>\n",
       "      <th>genre</th>\n",
       "      <th>director</th>\n",
       "      <th>writer</th>\n",
       "      <th>theater_date</th>\n",
       "      <th>dvd_date</th>\n",
       "      <th>currency</th>\n",
       "      <th>box_office</th>\n",
       "      <th>runtime</th>\n",
       "      <th>studio</th>\n",
       "    </tr>\n",
       "  </thead>\n",
       "  <tbody>\n",
       "    <tr>\n",
       "      <th>0</th>\n",
       "      <td>25</td>\n",
       "      <td>1929-02-01</td>\n",
       "      <td>The Broadway Melody</td>\n",
       "      <td>379000.0</td>\n",
       "      <td>2800000.0</td>\n",
       "      <td>4358000.0</td>\n",
       "      <td>1929</td>\n",
       "      <td>2421000.0</td>\n",
       "      <td>From ancient Japan's most enduring tale, the e...</td>\n",
       "      <td>PG-13</td>\n",
       "      <td>[Action and Adventure, Drama, Science Fiction ...</td>\n",
       "      <td>Carl Erik Rinsch</td>\n",
       "      <td>Chris Morgan|Hossein Amini</td>\n",
       "      <td>Dec 25, 2013</td>\n",
       "      <td>Apr 1, 2014</td>\n",
       "      <td>$</td>\n",
       "      <td>20,518,224</td>\n",
       "      <td>127 minutes</td>\n",
       "      <td>Universal Pictures</td>\n",
       "    </tr>\n",
       "    <tr>\n",
       "      <th>1</th>\n",
       "      <td>3</td>\n",
       "      <td>1933-03-09</td>\n",
       "      <td>42nd Street</td>\n",
       "      <td>439000.0</td>\n",
       "      <td>1438000.0</td>\n",
       "      <td>2281000.0</td>\n",
       "      <td>1933</td>\n",
       "      <td>999000.0</td>\n",
       "      <td>New York City, not-too-distant-future: Eric Pa...</td>\n",
       "      <td>R</td>\n",
       "      <td>[Drama, Science Fiction and Fantasy]</td>\n",
       "      <td>David Cronenberg</td>\n",
       "      <td>David Cronenberg|Don DeLillo</td>\n",
       "      <td>Aug 17, 2012</td>\n",
       "      <td>Jan 1, 2013</td>\n",
       "      <td>$</td>\n",
       "      <td>600,000</td>\n",
       "      <td>108 minutes</td>\n",
       "      <td>Entertainment One</td>\n",
       "    </tr>\n",
       "    <tr>\n",
       "      <th>2</th>\n",
       "      <td>10</td>\n",
       "      <td>1943-01-23</td>\n",
       "      <td>Casablanca</td>\n",
       "      <td>1039000.0</td>\n",
       "      <td>10462500.0</td>\n",
       "      <td>10496855.0</td>\n",
       "      <td>1943</td>\n",
       "      <td>9423500.0</td>\n",
       "      <td>Some cast and crew from NBC's highly acclaimed...</td>\n",
       "      <td>PG-13</td>\n",
       "      <td>[Comedy]</td>\n",
       "      <td>Jake Kasdan</td>\n",
       "      <td>Mike White</td>\n",
       "      <td>Jan 11, 2002</td>\n",
       "      <td>Jun 18, 2002</td>\n",
       "      <td>$</td>\n",
       "      <td>41,032,915</td>\n",
       "      <td>82 minutes</td>\n",
       "      <td>Paramount Pictures</td>\n",
       "    </tr>\n",
       "    <tr>\n",
       "      <th>3</th>\n",
       "      <td>61</td>\n",
       "      <td>1946-12-20</td>\n",
       "      <td>Itâs a Wonderful Life</td>\n",
       "      <td>3180000.0</td>\n",
       "      <td>6600000.0</td>\n",
       "      <td>10768908.0</td>\n",
       "      <td>1946</td>\n",
       "      <td>3420000.0</td>\n",
       "      <td>Death once again shows he's determined to get ...</td>\n",
       "      <td>R</td>\n",
       "      <td>[Action and Adventure, Drama, Horror, Mystery ...</td>\n",
       "      <td>James Wong</td>\n",
       "      <td>James Wong|Glen Morgan</td>\n",
       "      <td>Feb 10, 2006</td>\n",
       "      <td>Jul 25, 2006</td>\n",
       "      <td>$</td>\n",
       "      <td>54,100,000</td>\n",
       "      <td>93 minutes</td>\n",
       "      <td>New Line Cinema</td>\n",
       "    </tr>\n",
       "    <tr>\n",
       "      <th>4</th>\n",
       "      <td>3</td>\n",
       "      <td>1947-11-11</td>\n",
       "      <td>Gentleman's Agreement</td>\n",
       "      <td>2000000.0</td>\n",
       "      <td>7800000.0</td>\n",
       "      <td>7800000.0</td>\n",
       "      <td>1947</td>\n",
       "      <td>5800000.0</td>\n",
       "      <td>New York City, not-too-distant-future: Eric Pa...</td>\n",
       "      <td>R</td>\n",
       "      <td>[Drama, Science Fiction and Fantasy]</td>\n",
       "      <td>David Cronenberg</td>\n",
       "      <td>David Cronenberg|Don DeLillo</td>\n",
       "      <td>Aug 17, 2012</td>\n",
       "      <td>Jan 1, 2013</td>\n",
       "      <td>$</td>\n",
       "      <td>600,000</td>\n",
       "      <td>108 minutes</td>\n",
       "      <td>Entertainment One</td>\n",
       "    </tr>\n",
       "  </tbody>\n",
       "</table>\n",
       "</div>"
      ],
      "text/plain": [
       "   id release_date                    title  production_budget  \\\n",
       "0  25   1929-02-01      The Broadway Melody           379000.0   \n",
       "1   3   1933-03-09              42nd Street           439000.0   \n",
       "2  10   1943-01-23               Casablanca          1039000.0   \n",
       "3  61   1946-12-20  Itâs a Wonderful Life          3180000.0   \n",
       "4   3   1947-11-11    Gentleman's Agreement          2000000.0   \n",
       "\n",
       "   domestic_gross  worldwide_gross  year     profit  \\\n",
       "0       2800000.0        4358000.0  1929  2421000.0   \n",
       "1       1438000.0        2281000.0  1933   999000.0   \n",
       "2      10462500.0       10496855.0  1943  9423500.0   \n",
       "3       6600000.0       10768908.0  1946  3420000.0   \n",
       "4       7800000.0        7800000.0  1947  5800000.0   \n",
       "\n",
       "                                            synopsis rating  \\\n",
       "0  From ancient Japan's most enduring tale, the e...  PG-13   \n",
       "1  New York City, not-too-distant-future: Eric Pa...      R   \n",
       "2  Some cast and crew from NBC's highly acclaimed...  PG-13   \n",
       "3  Death once again shows he's determined to get ...      R   \n",
       "4  New York City, not-too-distant-future: Eric Pa...      R   \n",
       "\n",
       "                                               genre          director  \\\n",
       "0  [Action and Adventure, Drama, Science Fiction ...  Carl Erik Rinsch   \n",
       "1               [Drama, Science Fiction and Fantasy]  David Cronenberg   \n",
       "2                                           [Comedy]       Jake Kasdan   \n",
       "3  [Action and Adventure, Drama, Horror, Mystery ...        James Wong   \n",
       "4               [Drama, Science Fiction and Fantasy]  David Cronenberg   \n",
       "\n",
       "                         writer  theater_date      dvd_date currency  \\\n",
       "0    Chris Morgan|Hossein Amini  Dec 25, 2013   Apr 1, 2014        $   \n",
       "1  David Cronenberg|Don DeLillo  Aug 17, 2012   Jan 1, 2013        $   \n",
       "2                    Mike White  Jan 11, 2002  Jun 18, 2002        $   \n",
       "3        James Wong|Glen Morgan  Feb 10, 2006  Jul 25, 2006        $   \n",
       "4  David Cronenberg|Don DeLillo  Aug 17, 2012   Jan 1, 2013        $   \n",
       "\n",
       "   box_office      runtime              studio  \n",
       "0  20,518,224  127 minutes  Universal Pictures  \n",
       "1     600,000  108 minutes   Entertainment One  \n",
       "2  41,032,915   82 minutes  Paramount Pictures  \n",
       "3  54,100,000   93 minutes     New Line Cinema  \n",
       "4     600,000  108 minutes   Entertainment One  "
      ]
     },
     "execution_count": 79,
     "metadata": {},
     "output_type": "execute_result"
    }
   ],
   "source": [
    "# Joining rt_movie to tn_movie_budget\n",
    "df1 =tn_movie_budget.merge(rt_movie, how = 'inner', on = 'id')\n",
    "df1.head()"
   ]
  },
  {
   "cell_type": "code",
   "execution_count": 80,
   "metadata": {},
   "outputs": [
    {
     "name": "stdout",
     "output_type": "stream",
     "text": [
      "<class 'pandas.core.frame.DataFrame'>\n",
      "RangeIndex: 573 entries, 0 to 572\n",
      "Data columns (total 19 columns):\n",
      " #   Column             Non-Null Count  Dtype         \n",
      "---  ------             --------------  -----         \n",
      " 0   id                 573 non-null    int64         \n",
      " 1   release_date       573 non-null    datetime64[ns]\n",
      " 2   title              573 non-null    object        \n",
      " 3   production_budget  573 non-null    float64       \n",
      " 4   domestic_gross     573 non-null    float64       \n",
      " 5   worldwide_gross    573 non-null    float64       \n",
      " 6   year               573 non-null    int64         \n",
      " 7   profit             573 non-null    float64       \n",
      " 8   synopsis           573 non-null    object        \n",
      " 9   rating             573 non-null    object        \n",
      " 10  genre              573 non-null    object        \n",
      " 11  director           573 non-null    object        \n",
      " 12  writer             573 non-null    object        \n",
      " 13  theater_date       573 non-null    object        \n",
      " 14  dvd_date           573 non-null    object        \n",
      " 15  currency           573 non-null    object        \n",
      " 16  box_office         573 non-null    object        \n",
      " 17  runtime            573 non-null    object        \n",
      " 18  studio             573 non-null    object        \n",
      "dtypes: datetime64[ns](1), float64(4), int64(2), object(12)\n",
      "memory usage: 85.2+ KB\n"
     ]
    }
   ],
   "source": [
    "df1.info()"
   ]
  },
  {
   "cell_type": "code",
   "execution_count": 81,
   "metadata": {},
   "outputs": [
    {
     "data": {
      "text/html": [
       "<div>\n",
       "<style scoped>\n",
       "    .dataframe tbody tr th:only-of-type {\n",
       "        vertical-align: middle;\n",
       "    }\n",
       "\n",
       "    .dataframe tbody tr th {\n",
       "        vertical-align: top;\n",
       "    }\n",
       "\n",
       "    .dataframe thead th {\n",
       "        text-align: right;\n",
       "    }\n",
       "</style>\n",
       "<table border=\"1\" class=\"dataframe\">\n",
       "  <thead>\n",
       "    <tr style=\"text-align: right;\">\n",
       "      <th></th>\n",
       "      <th>id</th>\n",
       "      <th>release_date</th>\n",
       "      <th>title</th>\n",
       "      <th>production_budget</th>\n",
       "      <th>domestic_gross_x</th>\n",
       "      <th>worldwide_gross</th>\n",
       "      <th>year_x</th>\n",
       "      <th>profit</th>\n",
       "      <th>synopsis</th>\n",
       "      <th>rating</th>\n",
       "      <th>...</th>\n",
       "      <th>theater_date</th>\n",
       "      <th>dvd_date</th>\n",
       "      <th>currency</th>\n",
       "      <th>box_office</th>\n",
       "      <th>runtime</th>\n",
       "      <th>studio_x</th>\n",
       "      <th>studio_y</th>\n",
       "      <th>domestic_gross_y</th>\n",
       "      <th>foreign_gross</th>\n",
       "      <th>year_y</th>\n",
       "    </tr>\n",
       "  </thead>\n",
       "  <tbody>\n",
       "    <tr>\n",
       "      <th>0</th>\n",
       "      <td>13</td>\n",
       "      <td>2010-07-09</td>\n",
       "      <td>[Rec] 2</td>\n",
       "      <td>5600000.0</td>\n",
       "      <td>27766.0</td>\n",
       "      <td>18527766.0</td>\n",
       "      <td>2010</td>\n",
       "      <td>-5572234.0</td>\n",
       "      <td>Stewart Kane, an Irishman living in the Austra...</td>\n",
       "      <td>R</td>\n",
       "      <td>...</td>\n",
       "      <td>Apr 27, 2006</td>\n",
       "      <td>Oct 2, 2007</td>\n",
       "      <td>$</td>\n",
       "      <td>224,114</td>\n",
       "      <td>123 minutes</td>\n",
       "      <td>Sony Pictures Classics</td>\n",
       "      <td>Magn.</td>\n",
       "      <td>27800.0</td>\n",
       "      <td>18500000.0</td>\n",
       "      <td>2010</td>\n",
       "    </tr>\n",
       "    <tr>\n",
       "      <th>1</th>\n",
       "      <td>22</td>\n",
       "      <td>2010-06-04</td>\n",
       "      <td>Get Him to the Greek</td>\n",
       "      <td>40000000.0</td>\n",
       "      <td>61153526.0</td>\n",
       "      <td>91455875.0</td>\n",
       "      <td>2010</td>\n",
       "      <td>21153526.0</td>\n",
       "      <td>Two-time Academy Award Winner Kevin Spacey giv...</td>\n",
       "      <td>R</td>\n",
       "      <td>...</td>\n",
       "      <td>Dec 17, 2010</td>\n",
       "      <td>Apr 5, 2011</td>\n",
       "      <td>$</td>\n",
       "      <td>1,039,869</td>\n",
       "      <td>108 minutes</td>\n",
       "      <td>ATO Pictures</td>\n",
       "      <td>Uni.</td>\n",
       "      <td>61000000.0</td>\n",
       "      <td>30300000.0</td>\n",
       "      <td>2010</td>\n",
       "    </tr>\n",
       "    <tr>\n",
       "      <th>2</th>\n",
       "      <td>25</td>\n",
       "      <td>2010-12-29</td>\n",
       "      <td>Blue Valentine</td>\n",
       "      <td>1000000.0</td>\n",
       "      <td>9737892.0</td>\n",
       "      <td>16566240.0</td>\n",
       "      <td>2010</td>\n",
       "      <td>8737892.0</td>\n",
       "      <td>From ancient Japan's most enduring tale, the e...</td>\n",
       "      <td>PG-13</td>\n",
       "      <td>...</td>\n",
       "      <td>Dec 25, 2013</td>\n",
       "      <td>Apr 1, 2014</td>\n",
       "      <td>$</td>\n",
       "      <td>20,518,224</td>\n",
       "      <td>127 minutes</td>\n",
       "      <td>Universal Pictures</td>\n",
       "      <td>Wein.</td>\n",
       "      <td>9700000.0</td>\n",
       "      <td>2600000.0</td>\n",
       "      <td>2010</td>\n",
       "    </tr>\n",
       "    <tr>\n",
       "      <th>3</th>\n",
       "      <td>95</td>\n",
       "      <td>2010-03-12</td>\n",
       "      <td>Our Family Wedding</td>\n",
       "      <td>14000000.0</td>\n",
       "      <td>20255281.0</td>\n",
       "      <td>21410546.0</td>\n",
       "      <td>2010</td>\n",
       "      <td>6255281.0</td>\n",
       "      <td>BLEED FOR THIS is the incredible true story of...</td>\n",
       "      <td>R</td>\n",
       "      <td>...</td>\n",
       "      <td>Nov 18, 2016</td>\n",
       "      <td>Feb 14, 2017</td>\n",
       "      <td>$</td>\n",
       "      <td>5,051,927</td>\n",
       "      <td>116 minutes</td>\n",
       "      <td>Open Road Films</td>\n",
       "      <td>FoxS</td>\n",
       "      <td>20300000.0</td>\n",
       "      <td>1200000.0</td>\n",
       "      <td>2010</td>\n",
       "    </tr>\n",
       "    <tr>\n",
       "      <th>4</th>\n",
       "      <td>95</td>\n",
       "      <td>2010-08-27</td>\n",
       "      <td>Takers</td>\n",
       "      <td>32000000.0</td>\n",
       "      <td>57744720.0</td>\n",
       "      <td>70587268.0</td>\n",
       "      <td>2010</td>\n",
       "      <td>25744720.0</td>\n",
       "      <td>BLEED FOR THIS is the incredible true story of...</td>\n",
       "      <td>R</td>\n",
       "      <td>...</td>\n",
       "      <td>Nov 18, 2016</td>\n",
       "      <td>Feb 14, 2017</td>\n",
       "      <td>$</td>\n",
       "      <td>5,051,927</td>\n",
       "      <td>116 minutes</td>\n",
       "      <td>Open Road Films</td>\n",
       "      <td>SGem</td>\n",
       "      <td>57700000.0</td>\n",
       "      <td>11300000.0</td>\n",
       "      <td>2010</td>\n",
       "    </tr>\n",
       "  </tbody>\n",
       "</table>\n",
       "<p>5 rows × 23 columns</p>\n",
       "</div>"
      ],
      "text/plain": [
       "   id release_date                 title  production_budget  domestic_gross_x  \\\n",
       "0  13   2010-07-09               [Rec] 2          5600000.0           27766.0   \n",
       "1  22   2010-06-04  Get Him to the Greek         40000000.0        61153526.0   \n",
       "2  25   2010-12-29        Blue Valentine          1000000.0         9737892.0   \n",
       "3  95   2010-03-12    Our Family Wedding         14000000.0        20255281.0   \n",
       "4  95   2010-08-27                Takers         32000000.0        57744720.0   \n",
       "\n",
       "   worldwide_gross  year_x      profit  \\\n",
       "0       18527766.0    2010  -5572234.0   \n",
       "1       91455875.0    2010  21153526.0   \n",
       "2       16566240.0    2010   8737892.0   \n",
       "3       21410546.0    2010   6255281.0   \n",
       "4       70587268.0    2010  25744720.0   \n",
       "\n",
       "                                            synopsis rating  ...  \\\n",
       "0  Stewart Kane, an Irishman living in the Austra...      R  ...   \n",
       "1  Two-time Academy Award Winner Kevin Spacey giv...      R  ...   \n",
       "2  From ancient Japan's most enduring tale, the e...  PG-13  ...   \n",
       "3  BLEED FOR THIS is the incredible true story of...      R  ...   \n",
       "4  BLEED FOR THIS is the incredible true story of...      R  ...   \n",
       "\n",
       "   theater_date      dvd_date currency  box_office      runtime  \\\n",
       "0  Apr 27, 2006   Oct 2, 2007        $     224,114  123 minutes   \n",
       "1  Dec 17, 2010   Apr 5, 2011        $   1,039,869  108 minutes   \n",
       "2  Dec 25, 2013   Apr 1, 2014        $  20,518,224  127 minutes   \n",
       "3  Nov 18, 2016  Feb 14, 2017        $   5,051,927  116 minutes   \n",
       "4  Nov 18, 2016  Feb 14, 2017        $   5,051,927  116 minutes   \n",
       "\n",
       "                 studio_x studio_y domestic_gross_y foreign_gross year_y  \n",
       "0  Sony Pictures Classics    Magn.          27800.0    18500000.0   2010  \n",
       "1            ATO Pictures     Uni.       61000000.0    30300000.0   2010  \n",
       "2      Universal Pictures    Wein.        9700000.0     2600000.0   2010  \n",
       "3         Open Road Films     FoxS       20300000.0     1200000.0   2010  \n",
       "4         Open Road Films     SGem       57700000.0    11300000.0   2010  \n",
       "\n",
       "[5 rows x 23 columns]"
      ]
     },
     "execution_count": 81,
     "metadata": {},
     "output_type": "execute_result"
    }
   ],
   "source": [
    "# Joining bom_movies to the first dataframe\n",
    "df2 =df1.merge(bom_movies ,on= 'title')\n",
    "df2.head()"
   ]
  },
  {
   "cell_type": "code",
   "execution_count": 82,
   "metadata": {},
   "outputs": [
    {
     "name": "stdout",
     "output_type": "stream",
     "text": [
      "<class 'pandas.core.frame.DataFrame'>\n",
      "RangeIndex: 105 entries, 0 to 104\n",
      "Data columns (total 23 columns):\n",
      " #   Column             Non-Null Count  Dtype         \n",
      "---  ------             --------------  -----         \n",
      " 0   id                 105 non-null    int64         \n",
      " 1   release_date       105 non-null    datetime64[ns]\n",
      " 2   title              105 non-null    object        \n",
      " 3   production_budget  105 non-null    float64       \n",
      " 4   domestic_gross_x   105 non-null    float64       \n",
      " 5   worldwide_gross    105 non-null    float64       \n",
      " 6   year_x             105 non-null    int64         \n",
      " 7   profit             105 non-null    float64       \n",
      " 8   synopsis           105 non-null    object        \n",
      " 9   rating             105 non-null    object        \n",
      " 10  genre              105 non-null    object        \n",
      " 11  director           105 non-null    object        \n",
      " 12  writer             105 non-null    object        \n",
      " 13  theater_date       105 non-null    object        \n",
      " 14  dvd_date           105 non-null    object        \n",
      " 15  currency           105 non-null    object        \n",
      " 16  box_office         105 non-null    object        \n",
      " 17  runtime            105 non-null    object        \n",
      " 18  studio_x           105 non-null    object        \n",
      " 19  studio_y           105 non-null    object        \n",
      " 20  domestic_gross_y   105 non-null    float64       \n",
      " 21  foreign_gross      105 non-null    float64       \n",
      " 22  year_y             105 non-null    int64         \n",
      "dtypes: datetime64[ns](1), float64(6), int64(3), object(13)\n",
      "memory usage: 19.0+ KB\n"
     ]
    }
   ],
   "source": [
    "df2.info()"
   ]
  },
  {
   "cell_type": "markdown",
   "metadata": {},
   "source": [
    "## Exploratory Analysis"
   ]
  },
  {
   "cell_type": "markdown",
   "metadata": {},
   "source": [
    "## ~Questions to answer"
   ]
  },
  {
   "cell_type": "markdown",
   "metadata": {},
   "source": [
    "## 1. What is the most popular genre"
   ]
  },
  {
   "cell_type": "code",
   "execution_count": 83,
   "metadata": {},
   "outputs": [
    {
     "data": {
      "text/plain": [
       "genre\n",
       "Drama                          95\n",
       "Comedy                         39\n",
       "Science Fiction and Fantasy    19\n",
       "Mystery and Suspense           18\n",
       "Action and Adventure           18\n",
       "Art House and International    12\n",
       "Musical and Performing Arts    12\n",
       "Sports and Fitness             11\n",
       "Horror                          7\n",
       "Name: count, dtype: int64"
      ]
     },
     "execution_count": 83,
     "metadata": {},
     "output_type": "execute_result"
    }
   ],
   "source": [
    "# Separating the elements in the genre column and counting how many times they appear\n",
    "top_genres_counts = df2['genre'].explode().value_counts()\n",
    "top_genres_counts"
   ]
  },
  {
   "cell_type": "code",
   "execution_count": 84,
   "metadata": {},
   "outputs": [
    {
     "data": {
      "image/png": "[encoded data removed]",
      "text/plain": [
       "<Figure size 1000x600 with 1 Axes>"
      ]
     },
     "metadata": {},
     "output_type": "display_data"
    }
   ],
   "source": [
    "# plotting a bar chart on the top genre counts\n",
    "plt.figure(figsize=(10, 6))\n",
    "\n",
    "sns.barplot(x=top_genres_counts.index, y=top_genres_counts.values, alpha=0.8, color = 'green')\n",
    "plt.title('Genre Popularity')\n",
    "plt.xlabel('Genres',fontsize= 20)\n",
    "plt.ylabel('Count',fontsize =10)\n",
    "\n",
    "# Rotate the labels by 45 degrees\n",
    "plt.xticks(rotation=45)\n",
    "\n",
    "plt.show()"
   ]
  },
  {
   "cell_type": "markdown",
   "metadata": {},
   "source": [
    "From the plotted graph we can see that the most popular genre is Drama as it is the most watched"
   ]
  },
  {
   "cell_type": "markdown",
   "metadata": {},
   "source": [
    "## 2. What is the relationship between the production budget and the Worldwite gross"
   ]
  },
  {
   "cell_type": "code",
   "execution_count": 85,
   "metadata": {},
   "outputs": [
    {
     "data": {
      "image/png": "[encoded data removed]",
      "text/plain": [
       "<Figure size 640x480 with 1 Axes>"
      ]
     },
     "metadata": {},
     "output_type": "display_data"
    }
   ],
   "source": [
    "# Create the scatter plot\n",
    "plt.scatter(df2['production_budget'], df2['worldwide_gross'])\n",
    "plt.xlabel('Production budget')\n",
    "plt.ylabel('Worldwide gross')\n",
    "plt.title('Production budget vs Worldwide gross')\n",
    "plt.show()"
   ]
  },
  {
   "cell_type": "markdown",
   "metadata": {},
   "source": [
    "As we have seen the plot above results in to a positive correlation hence an increase in production budget will lead to an increase in the worldwide gross"
   ]
  },
  {
   "cell_type": "markdown",
   "metadata": {},
   "source": [
    "## 3. What is the relationship betwen the production budget and profit"
   ]
  },
  {
   "cell_type": "code",
   "execution_count": 86,
   "metadata": {},
   "outputs": [
    {
     "data": {
      "image/png": "[encoded data removed]",
      "text/plain": [
       "<Figure size 1000x800 with 1 Axes>"
      ]
     },
     "metadata": {},
     "output_type": "display_data"
    }
   ],
   "source": [
    "# plotting a scatterplot\n",
    "\n",
    "fig, ax= plt.subplots(figsize=(10,8))\n",
    "\n",
    "x = df2['production_budget']\n",
    "y = df2['profit']\n",
    "\n",
    "ax.scatter(x,y)\n",
    "\n",
    "ax.set_title('Profits vs Production Budget', fontsize=16)\n",
    "ax.set_xlabel(\"Budget\",fontsize=10)\n",
    "ax.set_ylabel(\"Profits \", fontsize=10)\n",
    "fig.savefig('Budget vs Revenue.png');"
   ]
  },
  {
   "cell_type": "code",
   "execution_count": 87,
   "metadata": {},
   "outputs": [
    {
     "ename": "SyntaxError",
     "evalue": "invalid syntax (1365706241.py, line 1)",
     "output_type": "error",
     "traceback": [
      "\u001b[0;36m  Cell \u001b[0;32mIn[87], line 1\u001b[0;36m\u001b[0m\n\u001b[0;31m    From the plot above we can see that the production budget and the profit have a moderately positive relationship\u001b[0m\n\u001b[0m         ^\u001b[0m\n\u001b[0;31mSyntaxError\u001b[0m\u001b[0;31m:\u001b[0m invalid syntax\n"
     ]
    }
   ],
   "source": [
    "From the plot above we can see that the production budget and the profit have a moderately positive relationship  "
   ]
  }
 ],
 "metadata": {
  "kernelspec": {
   "display_name": "Python 3 (ipykernel)",
   "language": "python",
   "name": "python3"
  },
  "language_info": {
   "codemirror_mode": {
    "name": "ipython",
    "version": 3
   },
   "file_extension": ".py",
   "mimetype": "text/x-python",
   "name": "python",
   "nbconvert_exporter": "python",
   "pygments_lexer": "ipython3",
   "version": "3.9.18"
  }
 },
 "nbformat": 4,
 "nbformat_minor": 4
}
